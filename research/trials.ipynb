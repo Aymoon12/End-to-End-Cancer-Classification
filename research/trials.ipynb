{
 "cells": [
  {
   "metadata": {},
   "cell_type": "code",
   "outputs": [],
   "execution_count": null,
   "source": "",
   "id": "b0c327fed86219b0"
  },
  {
   "metadata": {},
   "cell_type": "markdown",
   "source": "Download the dataset",
   "id": "2f63b118b06073fc"
  },
  {
   "metadata": {
    "ExecuteTime": {
     "end_time": "2025-02-05T22:04:02.726916Z",
     "start_time": "2025-02-05T22:04:02.568456Z"
    }
   },
   "cell_type": "code",
   "source": "import gdown",
   "id": "dfa31a1288f7d7da",
   "outputs": [],
   "execution_count": 1
  },
  {
   "metadata": {
    "ExecuteTime": {
     "end_time": "2025-02-05T22:08:22.198882Z",
     "start_time": "2025-02-05T22:08:11.429618Z"
    }
   },
   "cell_type": "code",
   "source": [
    "prefix = 'https://drive.google.com/uc?/export=download&id='\n",
    "file_id = '1z0mreUtRmR-P-magILsDR3T7M6IkGXtY'\n",
    "\n",
    "gdown.download(prefix+file_id, \"Chest-CT-Scan-data.zip\")"
   ],
   "id": "b4a45403a1ba08ed",
   "outputs": [
    {
     "name": "stderr",
     "output_type": "stream",
     "text": [
      "Downloading...\n",
      "From (original): https://drive.google.com/uc?/export=download&id=1z0mreUtRmR-P-magILsDR3T7M6IkGXtY\n",
      "From (redirected): https://drive.google.com/uc?%2Fexport=download&id=1z0mreUtRmR-P-magILsDR3T7M6IkGXtY&confirm=t&uuid=61e71c6c-da1a-42dd-a2fd-39102048e217\n",
      "To: /Users/baldman/Documents/Deep Learning/End-to-End-Cancer-Classification/research/Chest-CT-Scan-data.zip\n",
      "100%|██████████| 49.0M/49.0M [00:05<00:00, 8.35MB/s]\n"
     ]
    },
    {
     "data": {
      "text/plain": [
       "'Chest-CT-Scan-data.zip'"
      ]
     },
     "execution_count": 4,
     "metadata": {},
     "output_type": "execute_result"
    }
   ],
   "execution_count": 4
  },
  {
   "metadata": {},
   "cell_type": "code",
   "outputs": [],
   "execution_count": null,
   "source": "",
   "id": "777fecb93d593030"
  }
 ],
 "metadata": {
  "kernelspec": {
   "name": "python3",
   "language": "python",
   "display_name": "Python 3 (ipykernel)"
  }
 },
 "nbformat": 5,
 "nbformat_minor": 9
}
