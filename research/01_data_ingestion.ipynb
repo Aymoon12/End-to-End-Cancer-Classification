{
 "cells": [
  {
   "metadata": {
    "ExecuteTime": {
     "end_time": "2025-02-05T22:38:13.957144Z",
     "start_time": "2025-02-05T22:38:13.952838Z"
    }
   },
   "cell_type": "code",
   "source": "import os",
   "id": "8f472ddd90605a55",
   "outputs": [],
   "execution_count": 1
  },
  {
   "metadata": {
    "ExecuteTime": {
     "end_time": "2025-02-05T22:38:14.001091Z",
     "start_time": "2025-02-05T22:38:13.995524Z"
    }
   },
   "cell_type": "code",
   "source": "%pwd",
   "id": "f7ac621671a3b883",
   "outputs": [
    {
     "data": {
      "text/plain": [
       "'/Users/baldman/Documents/Deep Learning/End-to-End-Cancer-Classification/research'"
      ]
     },
     "execution_count": 2,
     "metadata": {},
     "output_type": "execute_result"
    }
   ],
   "execution_count": 2
  },
  {
   "metadata": {
    "ExecuteTime": {
     "end_time": "2025-02-05T22:38:14.140600Z",
     "start_time": "2025-02-05T22:38:14.138030Z"
    }
   },
   "cell_type": "code",
   "source": "os.chdir(\"../\")",
   "id": "10c861116e2893c1",
   "outputs": [],
   "execution_count": 3
  },
  {
   "metadata": {
    "ExecuteTime": {
     "end_time": "2025-02-05T22:38:14.160484Z",
     "start_time": "2025-02-05T22:38:14.155181Z"
    }
   },
   "cell_type": "code",
   "source": "%pwd",
   "id": "345c5c1a777953fc",
   "outputs": [
    {
     "data": {
      "text/plain": [
       "'/Users/baldman/Documents/Deep Learning/End-to-End-Cancer-Classification'"
      ]
     },
     "execution_count": 4,
     "metadata": {},
     "output_type": "execute_result"
    }
   ],
   "execution_count": 4
  },
  {
   "metadata": {
    "ExecuteTime": {
     "end_time": "2025-02-05T22:38:20.010849Z",
     "start_time": "2025-02-05T22:38:19.984312Z"
    }
   },
   "cell_type": "code",
   "source": [
    "from dataclasses import dataclass\n",
    "from pathlib import Path\n",
    "\n",
    "@dataclass(frozen=True)\n",
    "class DataIngestionConfig:\n",
    "    root_dir: Path\n",
    "    source_URL: str\n",
    "    local_data_file: Path\n",
    "    unzip_dir: Path\n"
   ],
   "id": "ec1bd36eb7f97ea7",
   "outputs": [],
   "execution_count": 6
  },
  {
   "metadata": {
    "ExecuteTime": {
     "end_time": "2025-02-05T22:38:21.378471Z",
     "start_time": "2025-02-05T22:38:21.136503Z"
    }
   },
   "cell_type": "code",
   "source": [
    "from cnnClassifier.constants import *\n",
    "from cnnClassifier.utils.common import read_yaml, create_directories"
   ],
   "id": "92b4f69c07032ef1",
   "outputs": [],
   "execution_count": 7
  },
  {
   "metadata": {
    "ExecuteTime": {
     "end_time": "2025-02-05T22:57:02.764429Z",
     "start_time": "2025-02-05T22:57:02.748737Z"
    }
   },
   "cell_type": "code",
   "source": [
    "class ConfigurationManager:\n",
    "    def __init__(self,\n",
    "                 config_file_path = CONFIG_FILE_PATH,\n",
    "                 params_file_path =  PARAMS_FILE_PATH):\n",
    "\n",
    "        self.config = read_yaml(config_file_path)\n",
    "        self.params = params_file_path\n",
    "\n",
    "        create_directories([self.config.artifacts_root])\n",
    "\n",
    "    def get_data_ingestion_config(self) -> DataIngestionConfig:\n",
    "        config = self.config.data_ingestion\n",
    "\n",
    "        create_directories([config.root_dir])\n",
    "\n",
    "        data_ingestion_config = DataIngestionConfig(\n",
    "            root_dir = config.root_dir,\n",
    "            source_URL=config.source_URL,\n",
    "            local_data_file=config.local_data_file,\n",
    "            unzip_dir=config.unzip_dir\n",
    "        )\n",
    "\n",
    "        return data_ingestion_config"
   ],
   "id": "958eb35223f0f937",
   "outputs": [],
   "execution_count": 11
  },
  {
   "metadata": {
    "ExecuteTime": {
     "end_time": "2025-02-05T22:57:03.336344Z",
     "start_time": "2025-02-05T22:57:03.330353Z"
    }
   },
   "cell_type": "code",
   "source": [
    "import os\n",
    "import zipfile\n",
    "import gdown\n",
    "from cnnClassifier import logger\n",
    "from cnnClassifier.utils.common import get_size"
   ],
   "id": "89ff896250685a3e",
   "outputs": [],
   "execution_count": 12
  },
  {
   "metadata": {
    "ExecuteTime": {
     "end_time": "2025-02-05T22:57:04.043977Z",
     "start_time": "2025-02-05T22:57:04.037153Z"
    }
   },
   "cell_type": "code",
   "source": [
    "class DataIngestion:\n",
    "    def __init__(self,config: DataIngestionConfig):\n",
    "        self.config = config\n",
    "\n",
    "\n",
    "    def download_file(self) -> str:\n",
    "        \"\"\"\n",
    "\n",
    "        Fetch Data From Google Drive\n",
    "\n",
    "        \"\"\"\n",
    "\n",
    "        try:\n",
    "            dataset_url = self.config.source_URL\n",
    "            zip_download_dir = self.config.local_data_file\n",
    "            os.makedirs(\"artifacts/data_ingestion\", exist_ok=True)\n",
    "            logger.info(f\"Downloading data from {dataset_url} to file {zip_download_dir}\")\n",
    "\n",
    "            file_id = dataset_url.split(\"/\")[-2]\n",
    "            prefix = \"https://drive.google.com/uc?/export=download&id=\"\n",
    "            gdown.download(prefix+file_id, zip_download_dir)\n",
    "\n",
    "            logger.info(f\"Downloaded data from {dataset_url} to file {zip_download_dir}\")\n",
    "\n",
    "        except Exception as e:\n",
    "            raise e\n",
    "\n",
    "\n",
    "    def extract_zip_file(self):\n",
    "\n",
    "        unzip_path = self.config.unzip_dir\n",
    "\n",
    "        os.makedirs(unzip_path, exist_ok=True)\n",
    "        with zipfile.ZipFile(self.config.local_data_file, \"r\") as zip_ref:\n",
    "            zip_ref.extractall(unzip_path)"
   ],
   "id": "b5ad5d0d3e28b904",
   "outputs": [],
   "execution_count": 13
  },
  {
   "metadata": {
    "ExecuteTime": {
     "end_time": "2025-02-05T22:57:15.642803Z",
     "start_time": "2025-02-05T22:57:04.803764Z"
    }
   },
   "cell_type": "code",
   "source": [
    "try:\n",
    "    config = ConfigurationManager()\n",
    "    data_ingestion_config = config.get_data_ingestion_config()\n",
    "    data_ingestion = DataIngestion(config=data_ingestion_config)\n",
    "    data_ingestion.download_file()\n",
    "    data_ingestion.extract_zip_file()\n",
    "except Exception as e:\n",
    "    raise e"
   ],
   "id": "674f5feb6426a1b8",
   "outputs": [
    {
     "name": "stderr",
     "output_type": "stream",
     "text": [
      "[2025-02-05 17:57:04,810: INFO: common: yaml file: config/config.yaml loaded successfully]\n",
      "[2025-02-05 17:57:04,814: INFO: common: created directory at: artifacts]\n",
      "[2025-02-05 17:57:04,815: INFO: common: created directory at: artifacts/data_ingestion]\n",
      "[2025-02-05 17:57:04,816: INFO: 3570373505: Downloading data from https://drive.google.com/file/d/1z0mreUtRmR-P-magILsDR3T7M6IkGXtY/view?usp=sharing to file artifacts/data_ingestion/data.zip]\n",
      "Downloading...\n",
      "From (original): https://drive.google.com/uc?/export=download&id=1z0mreUtRmR-P-magILsDR3T7M6IkGXtY\n",
      "From (redirected): https://drive.google.com/uc?%2Fexport=download&id=1z0mreUtRmR-P-magILsDR3T7M6IkGXtY&confirm=t&uuid=a46aedb9-fc66-49bd-a341-af583abab6e3\n",
      "To: /Users/baldman/Documents/Deep Learning/End-to-End-Cancer-Classification/artifacts/data_ingestion/data.zip\n",
      "100%|██████████| 49.0M/49.0M [00:06<00:00, 8.06MB/s]\n",
      "[2025-02-05 17:57:15,154: INFO: 3570373505: Downloaded data from https://drive.google.com/file/d/1z0mreUtRmR-P-magILsDR3T7M6IkGXtY/view?usp=sharing to file artifacts/data_ingestion/data.zip]\n"
     ]
    }
   ],
   "execution_count": 14
  },
  {
   "metadata": {},
   "cell_type": "code",
   "outputs": [],
   "execution_count": null,
   "source": "",
   "id": "f77473c40988bb5a"
  }
 ],
 "metadata": {
  "kernelspec": {
   "display_name": "Python 3",
   "language": "python",
   "name": "python3"
  },
  "language_info": {
   "codemirror_mode": {
    "name": "ipython",
    "version": 2
   },
   "file_extension": ".py",
   "mimetype": "text/x-python",
   "name": "python",
   "nbconvert_exporter": "python",
   "pygments_lexer": "ipython2",
   "version": "2.7.6"
  }
 },
 "nbformat": 4,
 "nbformat_minor": 5
}
